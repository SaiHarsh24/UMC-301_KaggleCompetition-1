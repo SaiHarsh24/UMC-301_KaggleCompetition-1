{
 "cells": [
  {
   "cell_type": "code",
   "execution_count": 15,
   "id": "3bce51e9",
   "metadata": {},
   "outputs": [
    {
     "name": "stdout",
     "output_type": "stream",
     "text": [
      "✅ Successfully loaded train.csv\n",
      "Engineering features...\n",
      "👍 Feature engineering complete.\n",
      "📊 Created 80/20 split for training and final hold-out validation.\n",
      "\n",
      "⏳ Starting CV training on the 80% training set...\n",
      "--- Fold 1/5 ---\n",
      "[LightGBM] [Info] Number of positive: 6997, number of negative: 12203\n",
      "[LightGBM] [Info] Auto-choosing col-wise multi-threading, the overhead of testing was 0.001246 seconds.\n",
      "You can set `force_col_wise=true` to remove the overhead.\n",
      "[LightGBM] [Info] Total Bins 3905\n",
      "[LightGBM] [Info] Number of data points in the train set: 19200, number of used features: 47\n",
      "[LightGBM] [Info] [binary:BoostFromScore]: pavg=0.364427 -> initscore=-0.556200\n",
      "[LightGBM] [Info] Start training from score -0.556200\n"
     ]
    },
    {
     "name": "stderr",
     "output_type": "stream",
     "text": [
      "c:\\Users\\Harsh\\Desktop\\Code\\5th Sem\\Data Science and AI\\Kaggle Competition 1\\.venv\\Lib\\site-packages\\sklearn\\utils\\validation.py:2749: UserWarning: X does not have valid feature names, but LGBMClassifier was fitted with feature names\n",
      "  warnings.warn(\n"
     ]
    },
    {
     "name": "stdout",
     "output_type": "stream",
     "text": [
      "--- Fold 2/5 ---\n",
      "[LightGBM] [Info] Number of positive: 6997, number of negative: 12203\n",
      "[LightGBM] [Info] Auto-choosing col-wise multi-threading, the overhead of testing was 0.001499 seconds.\n",
      "You can set `force_col_wise=true` to remove the overhead.\n",
      "[LightGBM] [Info] Total Bins 3905\n",
      "[LightGBM] [Info] Number of data points in the train set: 19200, number of used features: 47\n",
      "[LightGBM] [Info] [binary:BoostFromScore]: pavg=0.364427 -> initscore=-0.556200\n",
      "[LightGBM] [Info] Start training from score -0.556200\n"
     ]
    },
    {
     "name": "stderr",
     "output_type": "stream",
     "text": [
      "c:\\Users\\Harsh\\Desktop\\Code\\5th Sem\\Data Science and AI\\Kaggle Competition 1\\.venv\\Lib\\site-packages\\sklearn\\utils\\validation.py:2749: UserWarning: X does not have valid feature names, but LGBMClassifier was fitted with feature names\n",
      "  warnings.warn(\n"
     ]
    },
    {
     "name": "stdout",
     "output_type": "stream",
     "text": [
      "--- Fold 3/5 ---\n",
      "[LightGBM] [Info] Number of positive: 6997, number of negative: 12203\n",
      "[LightGBM] [Info] Auto-choosing col-wise multi-threading, the overhead of testing was 0.001229 seconds.\n",
      "You can set `force_col_wise=true` to remove the overhead.\n",
      "[LightGBM] [Info] Total Bins 3905\n",
      "[LightGBM] [Info] Number of data points in the train set: 19200, number of used features: 47\n",
      "[LightGBM] [Info] [binary:BoostFromScore]: pavg=0.364427 -> initscore=-0.556200\n",
      "[LightGBM] [Info] Start training from score -0.556200\n"
     ]
    },
    {
     "name": "stderr",
     "output_type": "stream",
     "text": [
      "c:\\Users\\Harsh\\Desktop\\Code\\5th Sem\\Data Science and AI\\Kaggle Competition 1\\.venv\\Lib\\site-packages\\sklearn\\utils\\validation.py:2749: UserWarning: X does not have valid feature names, but LGBMClassifier was fitted with feature names\n",
      "  warnings.warn(\n"
     ]
    },
    {
     "name": "stdout",
     "output_type": "stream",
     "text": [
      "--- Fold 4/5 ---\n",
      "[LightGBM] [Info] Number of positive: 6997, number of negative: 12203\n",
      "[LightGBM] [Info] Auto-choosing col-wise multi-threading, the overhead of testing was 0.001183 seconds.\n",
      "You can set `force_col_wise=true` to remove the overhead.\n",
      "[LightGBM] [Info] Total Bins 3905\n",
      "[LightGBM] [Info] Number of data points in the train set: 19200, number of used features: 47\n",
      "[LightGBM] [Info] [binary:BoostFromScore]: pavg=0.364427 -> initscore=-0.556200\n",
      "[LightGBM] [Info] Start training from score -0.556200\n"
     ]
    },
    {
     "name": "stderr",
     "output_type": "stream",
     "text": [
      "c:\\Users\\Harsh\\Desktop\\Code\\5th Sem\\Data Science and AI\\Kaggle Competition 1\\.venv\\Lib\\site-packages\\sklearn\\utils\\validation.py:2749: UserWarning: X does not have valid feature names, but LGBMClassifier was fitted with feature names\n",
      "  warnings.warn(\n"
     ]
    },
    {
     "name": "stdout",
     "output_type": "stream",
     "text": [
      "--- Fold 5/5 ---\n",
      "[LightGBM] [Info] Number of positive: 6996, number of negative: 12204\n",
      "[LightGBM] [Info] Auto-choosing col-wise multi-threading, the overhead of testing was 0.001365 seconds.\n",
      "You can set `force_col_wise=true` to remove the overhead.\n",
      "[LightGBM] [Info] Total Bins 3905\n",
      "[LightGBM] [Info] Number of data points in the train set: 19200, number of used features: 47\n",
      "[LightGBM] [Info] [binary:BoostFromScore]: pavg=0.364375 -> initscore=-0.556425\n",
      "[LightGBM] [Info] Start training from score -0.556425\n"
     ]
    },
    {
     "name": "stderr",
     "output_type": "stream",
     "text": [
      "c:\\Users\\Harsh\\Desktop\\Code\\5th Sem\\Data Science and AI\\Kaggle Competition 1\\.venv\\Lib\\site-packages\\sklearn\\utils\\validation.py:2749: UserWarning: X does not have valid feature names, but LGBMClassifier was fitted with feature names\n",
      "  warnings.warn(\n"
     ]
    },
    {
     "name": "stdout",
     "output_type": "stream",
     "text": [
      "✅ All folds trained.\n",
      "\n",
      "🚀 Averaging predictions and evaluating on the 20% hold-out set...\n",
      "\n",
      "--- 🚀 Final ENSEMBLE Performance (on Hold-Out Set) ---\n",
      "Accuracy:      0.6188\n",
      "AUC-ROC Score: 0.5716\n",
      "\n",
      "Classification Report:\n",
      "              precision    recall  f1-score   support\n",
      "\n",
      "           0       0.65      0.86      0.74      3814\n",
      "           1       0.45      0.21      0.28      2186\n",
      "\n",
      "    accuracy                           0.62      6000\n",
      "   macro avg       0.55      0.53      0.51      6000\n",
      "weighted avg       0.58      0.62      0.57      6000\n",
      "\n"
     ]
    },
    {
     "data": {
      "image/png": "[encoded data removed]",
      "text/plain": [
       "<Figure size 800x600 with 2 Axes>"
      ]
     },
     "metadata": {},
     "output_type": "display_data"
    }
   ],
   "source": [
    "import pandas as pd\n",
    "import numpy as np\n",
    "import lightgbm as lgb\n",
    "import seaborn as sns\n",
    "import matplotlib.pyplot as plt\n",
    "from sklearn.model_selection import train_test_split, StratifiedKFold\n",
    "from sklearn.preprocessing import StandardScaler, OneHotEncoder\n",
    "from sklearn.compose import ColumnTransformer\n",
    "from sklearn.pipeline import Pipeline\n",
    "from sklearn.metrics import classification_report, roc_auc_score, accuracy_score, confusion_matrix\n",
    "\n",
    "def validate_ensemble_strategy():\n",
    "    \"\"\"\n",
    "    Validates the cross-validation and averaging strategy on a hold-out set.\n",
    "    \"\"\"\n",
    "    # --- 1. Load Data ---\n",
    "    try:\n",
    "        df = pd.read_csv('train.csv')\n",
    "        print(\"✅ Successfully loaded train.csv\")\n",
    "    except FileNotFoundError:\n",
    "        print(\"❌ Error: 'train.csv' not found.\")\n",
    "        return\n",
    "\n",
    "    TARGET_COLUMN = 'song_popularity'\n",
    "    \n",
    "    # --- 2. Feature Engineering (as a function) ---\n",
    "    def engineer_features(df_in):\n",
    "        df_out = df_in.copy()\n",
    "        if 'id' in df_out.columns:\n",
    "            df_out.drop('id', axis=1, inplace=True)\n",
    "        df_out['key_mode'] = df_out['key'].astype(str) + '_' + df_out['audio_mode'].astype(str)\n",
    "        df_out['tempo_category'] = pd.cut(df_out['tempo'], bins=[0, 90, 120, 150, 250], labels=['Slow', 'Medium', 'Fast', 'Very Fast'])\n",
    "        df_out['loudness_scaled'] = (df_out['loudness'] - df['loudness'].min()) / (df['loudness'].max() - df['loudness'].min())\n",
    "        df_out['party_index'] = df_out['danceability'] * df_out['energy'] * df_out['loudness_scaled']\n",
    "        df_out['ballad_index'] = df_out['acousticness'] / (df_out['energy'] + 1e-6)\n",
    "        df_out['vocal_focus'] = 1 - df_out['instrumentalness']\n",
    "        df_out['studio_polish'] = 1 - df_out['liveness']\n",
    "        df_out['rhythmic_vs_acoustic'] = df_out['danceability'] - df_out['acousticness']\n",
    "        df_out['duration_log'] = np.log1p(df_out['song_duration_ms'])\n",
    "        df_out['key_mode'] = df_out['key_mode'].astype('category')\n",
    "        df_out['tempo_category'] = df_out['tempo_category'].astype('category')\n",
    "        if 'loudness' in df_out.columns:\n",
    "            df_out.drop(['loudness', 'song_duration_ms'], axis=1, inplace=True)\n",
    "        return df_out\n",
    "\n",
    "    print(\"Engineering features...\")\n",
    "    X_full = df.drop(TARGET_COLUMN, axis=1)\n",
    "    y_full = df[TARGET_COLUMN]\n",
    "    \n",
    "    X_full = engineer_features(X_full)\n",
    "    print(\"👍 Feature engineering complete.\")\n",
    "\n",
    "    # --- 3. Create a Hold-Out Validation Set ---\n",
    "    # This splits the data into a main set for CV training (80%) and a hold-out set for final validation (20%)\n",
    "    X_train_main, X_val_holdout, y_train_main, y_val_holdout = train_test_split(\n",
    "        X_full, y_full, test_size=0.2, random_state=42, stratify=y_full\n",
    "    )\n",
    "    print(\"📊 Created 80/20 split for training and final hold-out validation.\")\n",
    "\n",
    "    # --- 4. Preprocessing and Model Definition ---\n",
    "    numerical_features = X_train_main.select_dtypes(include=np.number).columns.tolist()\n",
    "    categorical_features = X_train_main.select_dtypes(include=['category', 'object']).columns.tolist()\n",
    "    preprocessor = ColumnTransformer(transformers=[\n",
    "        ('num', StandardScaler(), numerical_features),\n",
    "        ('cat', OneHotEncoder(handle_unknown='ignore'), categorical_features)\n",
    "    ], remainder='passthrough')\n",
    "\n",
    "    model = lgb.LGBMClassifier(\n",
    "        colsample_bytree=0.662, learning_rate=0.0216, n_estimators=187,\n",
    "        num_leaves=55, subsample=0.657,\n",
    "        scale_pos_weight=1.4, random_state=42, n_jobs=-1,\n",
    "    )\n",
    "\n",
    "    # --- 5. K-Fold Cross-Validation on the Main Training Set ---\n",
    "    N_SPLITS = 5\n",
    "    skf = StratifiedKFold(n_splits=N_SPLITS, shuffle=True, random_state=42)\n",
    "    \n",
    "    holdout_predictions = []\n",
    "    print(f\"\\n⏳ Starting CV training on the 80% training set...\")\n",
    "\n",
    "    for fold, (train_idx, val_idx) in enumerate(skf.split(X_train_main, y_train_main)):\n",
    "        print(f\"--- Fold {fold+1}/{N_SPLITS} ---\")\n",
    "        X_train, y_train = X_train_main.iloc[train_idx], y_train_main.iloc[train_idx]\n",
    "        \n",
    "        pipeline = Pipeline(steps=[('preprocessor', preprocessor), ('classifier', model)])\n",
    "        pipeline.fit(X_train, y_train)\n",
    "        \n",
    "        # Predict probabilities on the HOLD-OUT set\n",
    "        fold_preds = pipeline.predict_proba(X_val_holdout)[:, 1]\n",
    "        holdout_predictions.append(fold_preds)\n",
    "\n",
    "    print(\"✅ All folds trained.\")\n",
    "\n",
    "    # --- 6. Evaluate the Averaged Predictions on the Hold-out Set ---\n",
    "    print(\"\\n🚀 Averaging predictions and evaluating on the 20% hold-out set...\")\n",
    "    final_holdout_proba = np.mean(holdout_predictions, axis=0)\n",
    "    final_holdout_pred = (final_holdout_proba > 0.5).astype(int)\n",
    "\n",
    "    accuracy = accuracy_score(y_val_holdout, final_holdout_pred)\n",
    "    roc_auc = roc_auc_score(y_val_holdout, final_holdout_proba)\n",
    "\n",
    "    print(\"\\n--- 🚀 Final ENSEMBLE Performance (on Hold-Out Set) ---\")\n",
    "    print(f\"Accuracy:      {accuracy:.4f}\")\n",
    "    print(f\"AUC-ROC Score: {roc_auc:.4f}\")\n",
    "    print(\"\\nClassification Report:\")\n",
    "    print(classification_report(y_val_holdout, final_holdout_pred))\n",
    "    \n",
    "    cm = confusion_matrix(y_val_holdout, final_holdout_pred)\n",
    "    plt.figure(figsize=(8, 6))\n",
    "    sns.heatmap(cm, annot=True, fmt='d', cmap='Blues',\n",
    "                xticklabels=['Not Popular', 'Popular'],\n",
    "                yticklabels=['Not Popular', 'Popular'])\n",
    "    plt.xlabel('Predicted Label')\n",
    "    plt.ylabel('True Label')\n",
    "    plt.title('Ensemble Confusion Matrix on Hold-Out Set')\n",
    "    plt.show()\n",
    "\n",
    "    return X_train_main, X_val_holdout, y_train_main, y_val_holdout\n",
    "\n",
    "\n",
    "\n",
    "if __name__ == '__main__':\n",
    "    X_train_main, X_val_holdout, y_train_main, y_val_holdout = validate_ensemble_strategy()\n"
   ]
  },
  {
   "cell_type": "code",
   "execution_count": null,
   "id": "a1368d56",
   "metadata": {},
   "outputs": [
    {
     "name": "stdout",
     "output_type": "stream",
     "text": [
      "[LightGBM] [Info] Number of positive: 10932, number of negative: 19068\n",
      "[LightGBM] [Info] Auto-choosing col-wise multi-threading, the overhead of testing was 0.003819 seconds.\n",
      "You can set `force_col_wise=true` to remove the overhead.\n",
      "[LightGBM] [Info] Total Bins 3905\n",
      "[LightGBM] [Info] Number of data points in the train set: 30000, number of used features: 47\n",
      "[LightGBM] [Info] [binary:BoostFromScore]: pavg=0.364400 -> initscore=-0.556317\n",
      "[LightGBM] [Info] Start training from score -0.556317\n",
      "✅ Submission1.csv created successfully!\n"
     ]
    },
    {
     "name": "stderr",
     "output_type": "stream",
     "text": [
      "c:\\Users\\Harsh\\Desktop\\Code\\5th Sem\\Data Science and AI\\Kaggle Competition 1\\.venv\\Lib\\site-packages\\sklearn\\utils\\validation.py:2749: UserWarning: X does not have valid feature names, but LGBMClassifier was fitted with feature names\n",
      "  warnings.warn(\n"
     ]
    }
   ],
   "source": [
    "import pandas as pd\n",
    "import numpy as np\n",
    "import lightgbm as lgb\n",
    "from sklearn.preprocessing import StandardScaler, OneHotEncoder\n",
    "from sklearn.compose import ColumnTransformer\n",
    "from sklearn.pipeline import Pipeline\n",
    "\n",
    "def engineer_features(df_in, df_ref=None):\n",
    "    df_out = df_in.copy()\n",
    "    if 'id' in df_out.columns:\n",
    "        df_out.drop('id', axis=1, inplace=True)\n",
    "    df_out['key_mode'] = df_out['key'].astype(str) + '_' + df_out['audio_mode'].astype(str)\n",
    "    df_out['tempo_category'] = pd.cut(df_out['tempo'], bins=[0, 90, 120, 150, 250],\n",
    "                                      labels=['Slow', 'Medium', 'Fast', 'Very Fast'])\n",
    "    if df_ref is None:\n",
    "        df_ref = df_out\n",
    "    df_out['loudness_scaled'] = (df_out['loudness'] - df_ref['loudness'].min()) / \\\n",
    "                                (df_ref['loudness'].max() - df_ref['loudness'].min())\n",
    "    df_out['party_index'] = df_out['danceability'] * df_out['energy'] * df_out['loudness_scaled']\n",
    "    df_out['ballad_index'] = df_out['acousticness'] / (df_out['energy'] + 1e-6)\n",
    "    df_out['vocal_focus'] = 1 - df_out['instrumentalness']\n",
    "    df_out['studio_polish'] = 1 - df_out['liveness']\n",
    "    df_out['rhythmic_vs_acoustic'] = df_out['danceability'] - df_out['acousticness']\n",
    "    df_out['duration_log'] = np.log1p(df_out['song_duration_ms'])\n",
    "    df_out['key_mode'] = df_out['key_mode'].astype('category')\n",
    "    df_out['tempo_category'] = df_out['tempo_category'].astype('category')\n",
    "    if 'loudness' in df_out.columns:\n",
    "        df_out.drop(['loudness', 'song_duration_ms'], axis=1, inplace=True)\n",
    "    return df_out\n",
    "\n",
    "\n",
    "def train_and_predict():\n",
    "    # --- Load training data ---\n",
    "    df_train = pd.read_csv(\"train.csv\")\n",
    "    TARGET_COLUMN = \"song_popularity\"\n",
    "\n",
    "    X_train = df_train.drop(TARGET_COLUMN, axis=1)\n",
    "    y_train = df_train[TARGET_COLUMN]\n",
    "    X_train = engineer_features(X_train, df_train)\n",
    "\n",
    "    # --- Identify feature types ---\n",
    "    numerical_features = X_train.select_dtypes(include=np.number).columns.tolist()\n",
    "    categorical_features = X_train.select_dtypes(include=['category', 'object']).columns.tolist()\n",
    "\n",
    "    preprocessor = ColumnTransformer(transformers=[\n",
    "        ('num', StandardScaler(), numerical_features),\n",
    "        ('cat', OneHotEncoder(handle_unknown='ignore'), categorical_features)\n",
    "    ], remainder='passthrough')\n",
    "\n",
    "    # --- Define model ---\n",
    "    model = lgb.LGBMClassifier(\n",
    "        colsample_bytree=0.662, learning_rate=0.0216, n_estimators=187,\n",
    "        num_leaves=55, subsample=0.657,\n",
    "        scale_pos_weight=1.74, random_state=42, n_jobs=-1,\n",
    "        class_weight='balanced',\n",
    "    )\n",
    "\n",
    "    # --- Create pipeline and fit ---\n",
    "    pipeline = Pipeline(steps=[('preprocessor', preprocessor), ('classifier', model)])\n",
    "    pipeline.fit(X_train, y_train)\n",
    "\n",
    "    # --- Load test data ---\n",
    "    df_test = pd.read_csv(\"test.csv\")\n",
    "    ids = df_test['id']  # keep for submission\n",
    "    X_test = engineer_features(df_test, df_train)\n",
    "\n",
    "    # --- Predict ---\n",
    "    y_pred = pipeline.predict(X_test)\n",
    "\n",
    "    # --- Save submission ---\n",
    "    submission = pd.DataFrame({\n",
    "        \"id\": ids,\n",
    "        \"song_popularity\": y_pred\n",
    "    })\n",
    "    submission.to_csv(\"Submission1.csv\", index=False)\n",
    "    print(\"✅ Submission1.csv created successfully!\")\n",
    "\n",
    "if __name__ == \"__main__\":\n",
    "    train_and_predict()\n"
   ]
  },
  {
   "cell_type": "code",
   "execution_count": null,
   "id": "bf26e94b",
   "metadata": {},
   "outputs": [],
   "source": []
  }
 ],
 "metadata": {
  "kernelspec": {
   "display_name": ".venv",
   "language": "python",
   "name": "python3"
  },
  "language_info": {
   "codemirror_mode": {
    "name": "ipython",
    "version": 3
   },
   "file_extension": ".py",
   "mimetype": "text/x-python",
   "name": "python",
   "nbconvert_exporter": "python",
   "pygments_lexer": "ipython3",
   "version": "3.12.10"
  }
 },
 "nbformat": 4,
 "nbformat_minor": 5
}
